{
 "cells": [
  {
   "cell_type": "markdown",
   "id": "b4f82423",
   "metadata": {},
   "source": [
    "Detailed instructions for question 1:\n",
    "The nearest neighbor classifier predicts for a point X_i the target y_k of\n",
    "the training sample X_k which is the closest to X_i. We measure proximity with\n",
    "the Euclidean distance. The model will be evaluated with the accuracy (average\n",
    "number of samples corectly classified). You need to implement the `fit`,\n",
    "`predict` and `score` methods for this class. The code you write should pass\n",
    "the test we implemented. You can run the tests by calling at the root of the\n",
    "repo `pytest test_sklearn_questions.py`. Note that to be fully valid, a\n",
    "scikit-learn estimator needs to check that the input given to `fit` and\n",
    "`predict` are correct using the `check_*` functions imported in the file.\n",
    "You can find more information on how they should be used in the following doc:\n",
    "https://scikit-learn.org/stable/developers/develop.html#rolling-your-own-estimator.\n",
    "Make sure to use them to pass `test_nearest_neighbor_check_estimator`."
   ]
  },
  {
   "cell_type": "code",
   "execution_count": 163,
   "id": "f879a9a1",
   "metadata": {},
   "outputs": [],
   "source": [
    "\"\"\"\n",
    "Hints\n",
    "-----\n",
    "- You can use the function:\n",
    "\n",
    "from sklearn.metrics.pairwise import pairwise_distances\n",
    "\n",
    "to compute distances between 2 sets of samples.\n",
    "\"\"\"\n",
    "import numpy as np\n",
    "import pandas as pd\n",
    "from scipy import stats\n",
    "\n",
    "from sklearn.base import BaseEstimator\n",
    "from sklearn.base import ClassifierMixin\n",
    "\n",
    "from sklearn.model_selection import BaseCrossValidator\n",
    "\n",
    "from sklearn.utils.validation import check_X_y, check_is_fitted\n",
    "from sklearn.utils.validation import check_array\n",
    "from sklearn.utils.multiclass import check_classification_targets\n",
    "from sklearn.metrics.pairwise import pairwise_distances\n",
    "\n",
    "\n",
    "class KNearestNeighbors(BaseEstimator, ClassifierMixin):\n",
    "    \"\"\"KNearestNeighbors classifier.\"\"\"\n",
    "\n",
    "    def __init__(self, n_neighbors=1):  # noqa: D107\n",
    "        self.n_neighbors = n_neighbors\n",
    "\n",
    "    def fit(self, X, y):\n",
    "        \"\"\"Fitting function.\n",
    "\n",
    "        Parameters\n",
    "        ----------\n",
    "        X : ndarray, shape (n_samples, n_features)\n",
    "            Data to train the model.\n",
    "        y : ndarray, shape (n_samples,)\n",
    "            Labels associated with the training data.\n",
    "\n",
    "        Returns\n",
    "        ----------\n",
    "        self : instance of KNearestNeighbors\n",
    "            The current instance of the classifier\n",
    "        \"\"\"\n",
    "        \n",
    "        self.X_train = X\n",
    "        self.y_train = y\n",
    "        self.classes = np.unique(y)\n",
    "        \n",
    "        return self\n",
    "\n",
    "    def predict(self, X):\n",
    "        \"\"\"Predict function.\n",
    "\n",
    "        Parameters\n",
    "        ----------\n",
    "        X : ndarray, shape (n_test_samples, n_features)\n",
    "            Data to predict on.\n",
    "\n",
    "        Returns\n",
    "        ----------\n",
    "        y : ndarray, shape (n_test_samples,)\n",
    "            Predicted class labels for each test data sample.\n",
    "        \"\"\"\n",
    "        \n",
    "        dist = pairwise_distances(X,self.X_train , metric='euclidean')\n",
    "        sort_samples = np.argsort(dist,axis=1)\n",
    "        mask = sort_samples[:,:self.n_neighbors]\n",
    "        classes = self.y_train[mask]\n",
    "        \n",
    "        y_pred = stats.mode(classes, keepdims=False, axis = 1)[0].ravel()\n",
    "        \n",
    "        return y_pred\n",
    "\n",
    "    def score(self, X, y):\n",
    "        \"\"\"Calculate the score of the prediction.\n",
    "\n",
    "        Parameters\n",
    "        ----------\n",
    "        X : ndarray, shape (n_samples, n_features)\n",
    "            Data to score on.\n",
    "        y : ndarray, shape (n_samples,)\n",
    "            target values.\n",
    "\n",
    "        Returns\n",
    "        ----------\n",
    "        score : float\n",
    "            Accuracy of the model computed for the (X, y) pairs.\n",
    "        \"\"\"\n",
    "        return np.mean(self.predict(X) == y)"
   ]
  },
  {
   "cell_type": "code",
   "execution_count": 6,
   "id": "11b3ef49",
   "metadata": {},
   "outputs": [],
   "source": [
    "from sklearn.utils.estimator_checks import check_estimator\n",
    "from sklearn.model_selection import train_test_split\n",
    "from sklearn.utils import shuffle\n",
    "from sklearn.datasets import make_classification\n",
    "from sklearn.neighbors import KNeighborsClassifier"
   ]
  },
  {
   "cell_type": "code",
   "execution_count": 8,
   "id": "3208c5a9",
   "metadata": {},
   "outputs": [],
   "source": [
    "X, y = make_classification(n_samples=200, n_features=20,\n",
    "                               random_state=42)\n",
    "X_train, X_test, y_train, y_test = \\\n",
    "        train_test_split(X, y, random_state=42)"
   ]
  },
  {
   "cell_type": "code",
   "execution_count": 10,
   "id": "10cabced",
   "metadata": {},
   "outputs": [],
   "source": [
    "k = 3"
   ]
  },
  {
   "cell_type": "code",
   "execution_count": 11,
   "id": "d26e255b",
   "metadata": {},
   "outputs": [],
   "source": [
    "knn = KNeighborsClassifier(n_neighbors=k)\n",
    "y_pred_sk = knn.fit(X_train, y_train).predict(X_test)"
   ]
  },
  {
   "cell_type": "code",
   "execution_count": 15,
   "id": "1cf0cd87",
   "metadata": {},
   "outputs": [],
   "source": [
    "distance = pairwise_distances(X_test, metric='euclidean')"
   ]
  },
  {
   "cell_type": "code",
   "execution_count": 16,
   "id": "2289bf10",
   "metadata": {},
   "outputs": [
    {
     "data": {
      "text/plain": [
       "(50, 20)"
      ]
     },
     "execution_count": 16,
     "metadata": {},
     "output_type": "execute_result"
    }
   ],
   "source": [
    "X_test.shape"
   ]
  },
  {
   "cell_type": "code",
   "execution_count": 19,
   "id": "ffd8d677",
   "metadata": {},
   "outputs": [
    {
     "data": {
      "text/plain": [
       "(150, 20)"
      ]
     },
     "execution_count": 19,
     "metadata": {},
     "output_type": "execute_result"
    }
   ],
   "source": [
    "X_train.shape"
   ]
  },
  {
   "cell_type": "code",
   "execution_count": 18,
   "id": "b83a0b05",
   "metadata": {},
   "outputs": [
    {
     "data": {
      "text/plain": [
       "(50, 50)"
      ]
     },
     "execution_count": 18,
     "metadata": {},
     "output_type": "execute_result"
    }
   ],
   "source": [
    "distance.shape"
   ]
  },
  {
   "cell_type": "code",
   "execution_count": 50,
   "id": "d57296a6",
   "metadata": {},
   "outputs": [],
   "source": [
    "a = pairwise_distances(X_test,X_train , metric='euclidean')"
   ]
  },
  {
   "cell_type": "code",
   "execution_count": 51,
   "id": "15fa7439",
   "metadata": {},
   "outputs": [
    {
     "data": {
      "text/plain": [
       "(50, 150)"
      ]
     },
     "execution_count": 51,
     "metadata": {},
     "output_type": "execute_result"
    }
   ],
   "source": [
    "a.shape"
   ]
  },
  {
   "cell_type": "code",
   "execution_count": 54,
   "id": "ebb95e36",
   "metadata": {},
   "outputs": [
    {
     "data": {
      "text/plain": [
       "95"
      ]
     },
     "execution_count": 54,
     "metadata": {},
     "output_type": "execute_result"
    }
   ],
   "source": [
    "np.argmin(a[0])"
   ]
  },
  {
   "cell_type": "code",
   "execution_count": 83,
   "id": "329c6be0",
   "metadata": {},
   "outputs": [
    {
     "data": {
      "text/plain": [
       "array([ 95,  26,  83,  61,  77,  19, 111,  23,  17, 149,  28,   7, 122,\n",
       "        16, 142,  26, 147,  54, 135,  74,  39,  90,  82,  90,  41, 111,\n",
       "       132,  46, 129,  76,  96, 116,  61,  45, 112, 139,  63, 116,  92,\n",
       "        13, 142,  90,  32,   3, 149,  72, 112,   3, 105,  21], dtype=int64)"
      ]
     },
     "execution_count": 83,
     "metadata": {},
     "output_type": "execute_result"
    }
   ],
   "source": [
    "np.argmin(a,axis=1)"
   ]
  },
  {
   "cell_type": "code",
   "execution_count": 36,
   "id": "bf1ec97c",
   "metadata": {},
   "outputs": [
    {
     "data": {
      "text/plain": [
       "array([6.7143502 , 5.81182126, 6.42780856, 7.77513284, 6.66672997,\n",
       "       6.48200465, 6.10086089, 8.03890805])"
      ]
     },
     "execution_count": 36,
     "metadata": {},
     "output_type": "execute_result"
    }
   ],
   "source": [
    "a[0,37:45]"
   ]
  },
  {
   "cell_type": "code",
   "execution_count": 71,
   "id": "a0f2dfaa",
   "metadata": {},
   "outputs": [],
   "source": [
    "b = np.argsort(a,axis=1)"
   ]
  },
  {
   "cell_type": "code",
   "execution_count": 72,
   "id": "5fc54d8c",
   "metadata": {},
   "outputs": [
    {
     "data": {
      "text/plain": [
       "(50, 150)"
      ]
     },
     "execution_count": 72,
     "metadata": {},
     "output_type": "execute_result"
    }
   ],
   "source": [
    "b.shape"
   ]
  },
  {
   "cell_type": "code",
   "execution_count": 80,
   "id": "6d5bd141",
   "metadata": {},
   "outputs": [
    {
     "data": {
      "text/plain": [
       "array([ 95,  50,  48, 114,  78, 142, 134,  45,  63,  85,  91,  17,  88,\n",
       "        83, 105,  64, 110,  98, 146,  26, 109, 119, 111,  19, 116, 147,\n",
       "        29, 108,  46,  59, 115,   1,  28, 135,  56,  38,  74,  33, 126,\n",
       "       131,  73, 112,   8,  82,   2,  47,  84, 143, 140,  72,  16, 113,\n",
       "       148,  43,  70,  18, 137,   6,  60,  71,  67,  30, 145,  25, 125,\n",
       "         7,  39,  23,  90, 127, 130,  42,  66,  51,  14,   4,  69, 149,\n",
       "        92,  58,  31,  97, 141,  41,  37,  10,  79,  34,  96,  20,  11,\n",
       "        53, 124,  80,  77, 121,  15,  81, 129,  61, 138,  65,  49,  54,\n",
       "         3, 102,  75,  36,  35,  87, 101, 139,   5, 100, 132, 122, 133,\n",
       "        27, 117,  13,  12, 118,   9,   0,  76,  32, 144,  52,  55,  89,\n",
       "        21,  24,  40,  22,  99, 120, 123, 103,  86,  44, 128, 106, 107,\n",
       "        93, 136,  68,  62, 104,  57,  94], dtype=int64)"
      ]
     },
     "execution_count": 80,
     "metadata": {},
     "output_type": "execute_result"
    }
   ],
   "source": [
    "b[0]"
   ]
  },
  {
   "cell_type": "code",
   "execution_count": 79,
   "id": "48c648aa",
   "metadata": {},
   "outputs": [
    {
     "data": {
      "text/plain": [
       "5.811821257781309"
      ]
     },
     "execution_count": 79,
     "metadata": {},
     "output_type": "execute_result"
    }
   ],
   "source": [
    "a[0,38]"
   ]
  },
  {
   "cell_type": "code",
   "execution_count": 86,
   "id": "6883099c",
   "metadata": {},
   "outputs": [
    {
     "data": {
      "text/plain": [
       "array([0, 1])"
      ]
     },
     "execution_count": 86,
     "metadata": {},
     "output_type": "execute_result"
    }
   ],
   "source": [
    "np.unique(y)"
   ]
  },
  {
   "cell_type": "code",
   "execution_count": 87,
   "id": "231b52cd",
   "metadata": {},
   "outputs": [],
   "source": [
    "n_neighbors = 3"
   ]
  },
  {
   "cell_type": "code",
   "execution_count": 97,
   "id": "0722c89e",
   "metadata": {},
   "outputs": [],
   "source": [
    "mask = b[:,:n_neighbors]"
   ]
  },
  {
   "cell_type": "code",
   "execution_count": 117,
   "id": "2bca259b",
   "metadata": {},
   "outputs": [],
   "source": [
    "elements = y_train[mask]"
   ]
  },
  {
   "cell_type": "code",
   "execution_count": 121,
   "id": "c3c4572b",
   "metadata": {},
   "outputs": [
    {
     "data": {
      "text/plain": [
       "array([1, 0, 0])"
      ]
     },
     "execution_count": 121,
     "metadata": {},
     "output_type": "execute_result"
    }
   ],
   "source": [
    "elements[5]"
   ]
  },
  {
   "cell_type": "code",
   "execution_count": 122,
   "id": "dae4adeb",
   "metadata": {},
   "outputs": [],
   "source": [
    "from collections import Counter"
   ]
  },
  {
   "cell_type": "code",
   "execution_count": 123,
   "id": "8bcadfbc",
   "metadata": {},
   "outputs": [
    {
     "data": {
      "text/plain": [
       "Counter({1: 1, 0: 2})"
      ]
     },
     "execution_count": 123,
     "metadata": {},
     "output_type": "execute_result"
    }
   ],
   "source": [
    "Counter(elements[5])"
   ]
  },
  {
   "cell_type": "code",
   "execution_count": 127,
   "id": "4f83c404",
   "metadata": {},
   "outputs": [],
   "source": [
    "values, counts = np.unique(elements[5], return_counts=True)"
   ]
  },
  {
   "cell_type": "code",
   "execution_count": 133,
   "id": "ca02ab0d",
   "metadata": {},
   "outputs": [
    {
     "data": {
      "text/plain": [
       "array([1, 1, 1], dtype=int64)"
      ]
     },
     "execution_count": 133,
     "metadata": {},
     "output_type": "execute_result"
    }
   ],
   "source": [
    "np.unique(elements, axis=1, return_counts=True)[1]"
   ]
  },
  {
   "cell_type": "code",
   "execution_count": 136,
   "id": "2939c819",
   "metadata": {},
   "outputs": [],
   "source": [
    "from scipy import stats"
   ]
  },
  {
   "cell_type": "code",
   "execution_count": 137,
   "id": "d4909d46",
   "metadata": {},
   "outputs": [
    {
     "data": {
      "text/plain": [
       "array([[0, 0, 0],\n",
       "       [0, 0, 0],\n",
       "       [0, 1, 0],\n",
       "       [1, 1, 1],\n",
       "       [1, 1, 1],\n",
       "       [1, 0, 0],\n",
       "       [1, 0, 0],\n",
       "       [0, 1, 1],\n",
       "       [1, 0, 0],\n",
       "       [1, 0, 1],\n",
       "       [0, 1, 0],\n",
       "       [0, 0, 0],\n",
       "       [1, 1, 0],\n",
       "       [1, 1, 1],\n",
       "       [0, 1, 1],\n",
       "       [0, 1, 0],\n",
       "       [1, 1, 1],\n",
       "       [1, 1, 0],\n",
       "       [0, 1, 1],\n",
       "       [0, 0, 0],\n",
       "       [0, 0, 0],\n",
       "       [1, 1, 1],\n",
       "       [1, 1, 0],\n",
       "       [1, 1, 1],\n",
       "       [1, 0, 0],\n",
       "       [1, 1, 0],\n",
       "       [0, 1, 0],\n",
       "       [1, 0, 1],\n",
       "       [1, 0, 1],\n",
       "       [0, 0, 1],\n",
       "       [1, 0, 0],\n",
       "       [0, 1, 1],\n",
       "       [1, 0, 0],\n",
       "       [1, 1, 0],\n",
       "       [1, 1, 0],\n",
       "       [1, 1, 1],\n",
       "       [0, 1, 1],\n",
       "       [0, 0, 0],\n",
       "       [0, 0, 0],\n",
       "       [0, 0, 1],\n",
       "       [0, 0, 1],\n",
       "       [1, 0, 1],\n",
       "       [1, 1, 0],\n",
       "       [0, 0, 1],\n",
       "       [1, 0, 1],\n",
       "       [0, 0, 0],\n",
       "       [1, 1, 1],\n",
       "       [0, 0, 0],\n",
       "       [0, 0, 0],\n",
       "       [0, 1, 0]])"
      ]
     },
     "execution_count": 137,
     "metadata": {},
     "output_type": "execute_result"
    }
   ],
   "source": [
    "elements"
   ]
  },
  {
   "cell_type": "code",
   "execution_count": 148,
   "id": "be5ef4e8",
   "metadata": {},
   "outputs": [
    {
     "data": {
      "text/plain": [
       "(50,)"
      ]
     },
     "execution_count": 148,
     "metadata": {},
     "output_type": "execute_result"
    }
   ],
   "source": [
    "stats.mode(elements, keepdims=False, axis = 1)[0].ravel().shape"
   ]
  },
  {
   "cell_type": "code",
   "execution_count": 164,
   "id": "7f2786b7",
   "metadata": {},
   "outputs": [],
   "source": [
    "k = 5"
   ]
  },
  {
   "cell_type": "code",
   "execution_count": 165,
   "id": "6b76ab20",
   "metadata": {},
   "outputs": [
    {
     "data": {
      "text/plain": [
       "array([0, 0, 0, 1, 1, 0, 1, 1, 1, 1, 0, 0, 1, 1, 1, 1, 1, 1, 0, 0, 0, 1,\n",
       "       1, 1, 0, 1, 0, 1, 1, 0, 0, 1, 0, 1, 1, 1, 1, 0, 0, 0, 0, 0, 1, 1,\n",
       "       1, 0, 1, 0, 0, 0])"
      ]
     },
     "execution_count": 165,
     "metadata": {},
     "output_type": "execute_result"
    }
   ],
   "source": [
    "onn = KNearestNeighbors(k)\n",
    "y_pred_me = onn.fit(X_train, y_train).predict(X_test)\n",
    "y_pred_me"
   ]
  },
  {
   "cell_type": "code",
   "execution_count": 166,
   "id": "d2b63ab6",
   "metadata": {},
   "outputs": [
    {
     "data": {
      "text/plain": [
       "array([0, 0, 0, 1, 1, 0, 1, 1, 1, 1, 0, 0, 1, 1, 1, 1, 1, 1, 0, 0, 0, 1,\n",
       "       1, 1, 0, 1, 0, 1, 1, 0, 0, 1, 0, 1, 1, 1, 1, 0, 0, 0, 0, 0, 1, 1,\n",
       "       1, 0, 1, 0, 0, 0])"
      ]
     },
     "execution_count": 166,
     "metadata": {},
     "output_type": "execute_result"
    }
   ],
   "source": [
    "knn = KNeighborsClassifier(n_neighbors=k)\n",
    "y_pred_sk = knn.fit(X_train, y_train).predict(X_test)\n",
    "y_pred_sk"
   ]
  },
  {
   "cell_type": "code",
   "execution_count": 167,
   "id": "42342278",
   "metadata": {},
   "outputs": [
    {
     "data": {
      "text/plain": [
       "array([ True,  True,  True,  True,  True,  True,  True,  True,  True,\n",
       "        True,  True,  True,  True,  True,  True,  True,  True,  True,\n",
       "        True,  True,  True,  True,  True,  True,  True,  True,  True,\n",
       "        True,  True,  True,  True,  True,  True,  True,  True,  True,\n",
       "        True,  True,  True,  True,  True,  True,  True,  True,  True,\n",
       "        True,  True,  True,  True,  True])"
      ]
     },
     "execution_count": 167,
     "metadata": {},
     "output_type": "execute_result"
    }
   ],
   "source": [
    "y_pred_me == y_pred_sk"
   ]
  },
  {
   "cell_type": "code",
   "execution_count": null,
   "id": "617cb017",
   "metadata": {},
   "outputs": [],
   "source": []
  }
 ],
 "metadata": {
  "kernelspec": {
   "display_name": "Python 3 (ipykernel)",
   "language": "python",
   "name": "python3"
  },
  "language_info": {
   "codemirror_mode": {
    "name": "ipython",
    "version": 3
   },
   "file_extension": ".py",
   "mimetype": "text/x-python",
   "name": "python",
   "nbconvert_exporter": "python",
   "pygments_lexer": "ipython3",
   "version": "3.8.13"
  }
 },
 "nbformat": 4,
 "nbformat_minor": 5
}
